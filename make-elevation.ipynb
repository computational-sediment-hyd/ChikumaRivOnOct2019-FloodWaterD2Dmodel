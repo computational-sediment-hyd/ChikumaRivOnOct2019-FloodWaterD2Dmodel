{
 "cells": [
  {
   "cell_type": "code",
   "execution_count": null,
   "metadata": {},
   "outputs": [],
   "source": [
    "import holoviews as hv\n",
    "import geoviews as gv\n",
    "import numpy as np\n",
    "import pyproj\n",
    "import xarray as xr\n",
    "from cartopy import crs\n",
    "import json\n",
    "import xarray as xr, hvplot.xarray\n",
    "from shapely.geometry import Point\n",
    "\n",
    "hv.extension('bokeh', logo=False)\n",
    "gv.extension('bokeh', logo=False)"
   ]
  },
  {
   "cell_type": "code",
   "execution_count": null,
   "metadata": {},
   "outputs": [],
   "source": [
    "outcrs = crs.epsg(6676)\n",
    "url = 'https://cyberjapandata.gsi.go.jp/xyz/seamlessphoto/{Z}/{X}/{Y}.jpg'\n",
    "geomap = gv.WMTS(url, crs=outcrs).options(width=600, height=400)"
   ]
  },
  {
   "cell_type": "code",
   "execution_count": null,
   "metadata": {},
   "outputs": [],
   "source": [
    "p1x = np.array( [[ -20500, 74000 ]] )\n",
    "               \n",
    "def mkunitvecotr(th):\n",
    "    ex = np.array( [[1, 0]] )\n",
    "    th = th * np.pi / 180\n",
    "    r = np.array( [[np.cos(th), -np.sin(th)],[np.sin(th), np.cos(th)]])\n",
    "    return np.dot( r, ex.T)\n",
    "\n",
    "thx = 57\n",
    "exi = mkunitvecotr(thx)\n",
    "eeta = mkunitvecotr(thx+90)\n",
    "\n",
    "Lx, Ly = 6300, 3000 \n",
    "pathxi = np.c_[p1x.T, p1x.T + exi*Lx]\n",
    "patheta = np.c_[p1x.T, p1x.T + eeta*Ly]\n",
    "\n",
    "# drawing using geoviews\n",
    "l1 = gv.Path(tuple(pathxi), crs=outcrs).options(line_width=2)\n",
    "l2 = gv.Path(tuple(patheta), crs=outcrs).options(line_width=2)\n",
    "\n",
    "out = geomap*l1 *l2\n",
    "# gv.renderer('bokeh').save(out, 'set_axis')\n",
    "out.options(height=600)"
   ]
  },
  {
   "cell_type": "code",
   "execution_count": null,
   "metadata": {},
   "outputs": [],
   "source": [
    "dx, dy = 10.0, 10.0\n",
    "mps = np.empty(( int(Lx/dx)+1, int(Ly/dy)+1, 2 ))\n",
    "for i, _ in enumerate(mps[:,0]):\n",
    "    for j, _ in enumerate(mps[0]):\n",
    "        mps[i,j] = (p1x.T + exi*dx*i + eeta*dy*j).flatten()"
   ]
  },
  {
   "cell_type": "code",
   "execution_count": null,
   "metadata": {},
   "outputs": [],
   "source": [
    "import libgsidem2el as gsi\n",
    "dem = gsi.libgsidem2el('DEM5A')\n",
    "\n",
    "EPSGout = pyproj.Proj(\"+init=EPSG:6668\")\n",
    "EPSGin = pyproj.Proj(\"+init=EPSG:6676\")\n",
    "\n",
    "Z = np.empty_like( mps[:,:,0] ) \n",
    "nx, ny = len(Z), len(Z[0])\n",
    "for j in range(ny) :\n",
    "    for i in range(nx) :\n",
    "        p = mps[i, j]\n",
    "        lon, lat = pyproj.transform( EPSGin, EPSGout, *p)\n",
    "        val = dem.getEL(lon, lat, zoom = 15) \n",
    "#         val = np.nan if val == 'e' else val\n",
    "        if val == 'e' :\n",
    "#             print('e')\n",
    "            val = np.nan\n",
    "            \n",
    "#         Z[i,j] = dem.getEL(lon, lat, zoom = 15)\n",
    "        Z[i,j] = val"
   ]
  },
  {
   "cell_type": "code",
   "execution_count": null,
   "metadata": {},
   "outputs": [],
   "source": [
    "len(mps) *  len(mps[0])"
   ]
  },
  {
   "cell_type": "code",
   "execution_count": null,
   "metadata": {},
   "outputs": [],
   "source": [
    "Qx = mps[:,:,0]\n",
    "Qy = mps[:,:,1]\n",
    "ds = xr.Dataset({'elevation': (['x','y'], Z) }, coords={'xc': (('x', 'y'), Qx), 'yc': (('x', 'y'), Qy)})"
   ]
  },
  {
   "cell_type": "code",
   "execution_count": null,
   "metadata": {
    "scrolled": false
   },
   "outputs": [],
   "source": [
    "out1 = ds.hvplot.quadmesh( 'xc','yc',z='elevation', crs=outcrs, rasterize=True, dynamic=True, cmap='jet',width=600, height=600,colorbar=True ).redim.range(elevation=(320,340))"
   ]
  },
  {
   "cell_type": "code",
   "execution_count": null,
   "metadata": {},
   "outputs": [],
   "source": [
    "point = gv.Points( Point(mps[206,81]).coords[:], crs=outcrs ).options(size=10, color='red') \\\n",
    "      * gv.Points( Point(mps[207,81]).coords[:], crs=outcrs ).options(size=10, color='red') \\\n",
    "      * gv.Points( Point(mps[208,81]).coords[:], crs=outcrs ).options(size=10, color='red') \\\n",
    "      * gv.Points( Point(mps[209,81]).coords[:], crs=outcrs ).options(size=10, color='red') \\\n",
    "      * gv.Points( Point(mps[210,81]).coords[:], crs=outcrs ).options(size=10, color='red')"
   ]
  },
  {
   "cell_type": "code",
   "execution_count": null,
   "metadata": {},
   "outputs": [],
   "source": [
    "g = out1.opts(alpha=0.7) * geomap * point"
   ]
  },
  {
   "cell_type": "code",
   "execution_count": null,
   "metadata": {},
   "outputs": [],
   "source": [
    "g"
   ]
  },
  {
   "cell_type": "code",
   "execution_count": null,
   "metadata": {},
   "outputs": [],
   "source": [
    "hv.save(g,'elevation.html')"
   ]
  },
  {
   "cell_type": "code",
   "execution_count": null,
   "metadata": {},
   "outputs": [],
   "source": [
    "ds.to_netcdf('zb.nc')"
   ]
  }
 ],
 "metadata": {
  "kernelspec": {
   "display_name": "Python 3",
   "language": "python",
   "name": "python3"
  },
  "language_info": {
   "codemirror_mode": {
    "name": "ipython",
    "version": 3
   },
   "file_extension": ".py",
   "mimetype": "text/x-python",
   "name": "python",
   "nbconvert_exporter": "python",
   "pygments_lexer": "ipython3",
   "version": "3.6.4"
  },
  "toc": {
   "base_numbering": 1,
   "nav_menu": {},
   "number_sections": true,
   "sideBar": true,
   "skip_h1_title": false,
   "title_cell": "Table of Contents",
   "title_sidebar": "Contents",
   "toc_cell": false,
   "toc_position": {},
   "toc_section_display": true,
   "toc_window_display": false
  }
 },
 "nbformat": 4,
 "nbformat_minor": 2
}
